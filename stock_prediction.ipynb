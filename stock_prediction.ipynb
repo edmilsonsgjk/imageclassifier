{
  "nbformat": 4,
  "nbformat_minor": 0,
  "metadata": {
    "colab": {
      "name": "Untitled1.ipynb",
      "version": "0.3.2",
      "provenance": [],
      "include_colab_link": true
    },
    "kernelspec": {
      "name": "python3",
      "display_name": "Python 3"
    }
  },
  "cells": [
    {
      "cell_type": "markdown",
      "metadata": {
        "id": "view-in-github",
        "colab_type": "text"
      },
      "source": [
        "<a href=\"https://colab.research.google.com/github/edmilsonsgjk/imageclassifier/blob/master/stock_prediction.ipynb\" target=\"_parent\"><img src=\"https://colab.research.google.com/assets/colab-badge.svg\" alt=\"Open In Colab\"/></a>"
      ]
    },
    {
      "cell_type": "code",
      "metadata": {
        "id": "TWX7rHYZ_6AP",
        "colab_type": "code",
        "colab": {}
      },
      "source": [
        "pip install yfinance --upgrade --no-cache-dir\n"
      ],
      "execution_count": 0,
      "outputs": []
    },
    {
      "cell_type": "code",
      "metadata": {
        "id": "0lDUKfaIAJgf",
        "colab_type": "code",
        "colab": {}
      },
      "source": [
        "# Import packets\n",
        "import numpy as np  \n",
        "import pandas as pd \n",
        "import matplotlib.pyplot as plt\n",
        "%matplotlib inline\n",
        "import yfinance as yf #instal via pip install yfinance --upgrade --no-cache-dir\n",
        "\n",
        "#import models\n",
        "import sklearn\n",
        "from sklearn.linear_model import LinearRegression, Lasso, Ridge\n",
        "from sklearn.neighbors import KNeighborsRegressor"
      ],
      "execution_count": 0,
      "outputs": []
    },
    {
      "cell_type": "code",
      "metadata": {
        "id": "xaAElqnJAqvI",
        "colab_type": "code",
        "colab": {
          "base_uri": "https://localhost:8080/",
          "height": 216
        },
        "outputId": "a72d9f69-cbcb-44c8-a42d-c42eb695bebd"
      },
      "source": [
        "# download stock price dataset we want to predict\n",
        "stock_name = 'BBAS3.SA'\n",
        "df = pd.stock = yf.download(stock_name, period = 'max').reset_index()\n",
        "df.head()"
      ],
      "execution_count": 117,
      "outputs": [
        {
          "output_type": "stream",
          "text": [
            "\r[*********************100%***********************]  1 of 1 downloaded\n"
          ],
          "name": "stdout"
        },
        {
          "output_type": "execute_result",
          "data": {
            "text/html": [
              "<div>\n",
              "<style scoped>\n",
              "    .dataframe tbody tr th:only-of-type {\n",
              "        vertical-align: middle;\n",
              "    }\n",
              "\n",
              "    .dataframe tbody tr th {\n",
              "        vertical-align: top;\n",
              "    }\n",
              "\n",
              "    .dataframe thead th {\n",
              "        text-align: right;\n",
              "    }\n",
              "</style>\n",
              "<table border=\"1\" class=\"dataframe\">\n",
              "  <thead>\n",
              "    <tr style=\"text-align: right;\">\n",
              "      <th></th>\n",
              "      <th>Date</th>\n",
              "      <th>Open</th>\n",
              "      <th>High</th>\n",
              "      <th>Low</th>\n",
              "      <th>Close</th>\n",
              "      <th>Adj Close</th>\n",
              "      <th>Volume</th>\n",
              "    </tr>\n",
              "  </thead>\n",
              "  <tbody>\n",
              "    <tr>\n",
              "      <th>0</th>\n",
              "      <td>2000-01-03</td>\n",
              "      <td>2.80</td>\n",
              "      <td>2.85</td>\n",
              "      <td>2.73</td>\n",
              "      <td>2.73</td>\n",
              "      <td>1.58</td>\n",
              "      <td>514800.0</td>\n",
              "    </tr>\n",
              "    <tr>\n",
              "      <th>1</th>\n",
              "      <td>2000-01-04</td>\n",
              "      <td>2.73</td>\n",
              "      <td>2.74</td>\n",
              "      <td>2.60</td>\n",
              "      <td>2.60</td>\n",
              "      <td>1.50</td>\n",
              "      <td>314100.0</td>\n",
              "    </tr>\n",
              "    <tr>\n",
              "      <th>2</th>\n",
              "      <td>2000-01-05</td>\n",
              "      <td>2.60</td>\n",
              "      <td>2.63</td>\n",
              "      <td>2.51</td>\n",
              "      <td>2.63</td>\n",
              "      <td>1.52</td>\n",
              "      <td>478800.0</td>\n",
              "    </tr>\n",
              "    <tr>\n",
              "      <th>3</th>\n",
              "      <td>2000-01-06</td>\n",
              "      <td>2.63</td>\n",
              "      <td>2.67</td>\n",
              "      <td>2.60</td>\n",
              "      <td>2.67</td>\n",
              "      <td>1.54</td>\n",
              "      <td>205200.0</td>\n",
              "    </tr>\n",
              "    <tr>\n",
              "      <th>4</th>\n",
              "      <td>2000-01-07</td>\n",
              "      <td>2.67</td>\n",
              "      <td>2.67</td>\n",
              "      <td>2.61</td>\n",
              "      <td>2.61</td>\n",
              "      <td>1.50</td>\n",
              "      <td>394200.0</td>\n",
              "    </tr>\n",
              "  </tbody>\n",
              "</table>\n",
              "</div>"
            ],
            "text/plain": [
              "        Date  Open  High   Low  Close  Adj Close    Volume\n",
              "0 2000-01-03  2.80  2.85  2.73   2.73       1.58  514800.0\n",
              "1 2000-01-04  2.73  2.74  2.60   2.60       1.50  314100.0\n",
              "2 2000-01-05  2.60  2.63  2.51   2.63       1.52  478800.0\n",
              "3 2000-01-06  2.63  2.67  2.60   2.67       1.54  205200.0\n",
              "4 2000-01-07  2.67  2.67  2.61   2.61       1.50  394200.0"
            ]
          },
          "metadata": {
            "tags": []
          },
          "execution_count": 117
        }
      ]
    },
    {
      "cell_type": "code",
      "metadata": {
        "id": "FuCOcvsvBFHJ",
        "colab_type": "code",
        "colab": {
          "base_uri": "https://localhost:8080/",
          "height": 198
        },
        "outputId": "c5924b01-f0a5-4c0f-ce5b-a02cb44fc91b"
      },
      "source": [
        "df.to_csv('/BBAS3.csv', index = False)\n",
        "df.head()"
      ],
      "execution_count": 118,
      "outputs": [
        {
          "output_type": "execute_result",
          "data": {
            "text/html": [
              "<div>\n",
              "<style scoped>\n",
              "    .dataframe tbody tr th:only-of-type {\n",
              "        vertical-align: middle;\n",
              "    }\n",
              "\n",
              "    .dataframe tbody tr th {\n",
              "        vertical-align: top;\n",
              "    }\n",
              "\n",
              "    .dataframe thead th {\n",
              "        text-align: right;\n",
              "    }\n",
              "</style>\n",
              "<table border=\"1\" class=\"dataframe\">\n",
              "  <thead>\n",
              "    <tr style=\"text-align: right;\">\n",
              "      <th></th>\n",
              "      <th>Date</th>\n",
              "      <th>Open</th>\n",
              "      <th>High</th>\n",
              "      <th>Low</th>\n",
              "      <th>Close</th>\n",
              "      <th>Adj Close</th>\n",
              "      <th>Volume</th>\n",
              "    </tr>\n",
              "  </thead>\n",
              "  <tbody>\n",
              "    <tr>\n",
              "      <th>0</th>\n",
              "      <td>2000-01-03</td>\n",
              "      <td>2.80</td>\n",
              "      <td>2.85</td>\n",
              "      <td>2.73</td>\n",
              "      <td>2.73</td>\n",
              "      <td>1.58</td>\n",
              "      <td>514800.0</td>\n",
              "    </tr>\n",
              "    <tr>\n",
              "      <th>1</th>\n",
              "      <td>2000-01-04</td>\n",
              "      <td>2.73</td>\n",
              "      <td>2.74</td>\n",
              "      <td>2.60</td>\n",
              "      <td>2.60</td>\n",
              "      <td>1.50</td>\n",
              "      <td>314100.0</td>\n",
              "    </tr>\n",
              "    <tr>\n",
              "      <th>2</th>\n",
              "      <td>2000-01-05</td>\n",
              "      <td>2.60</td>\n",
              "      <td>2.63</td>\n",
              "      <td>2.51</td>\n",
              "      <td>2.63</td>\n",
              "      <td>1.52</td>\n",
              "      <td>478800.0</td>\n",
              "    </tr>\n",
              "    <tr>\n",
              "      <th>3</th>\n",
              "      <td>2000-01-06</td>\n",
              "      <td>2.63</td>\n",
              "      <td>2.67</td>\n",
              "      <td>2.60</td>\n",
              "      <td>2.67</td>\n",
              "      <td>1.54</td>\n",
              "      <td>205200.0</td>\n",
              "    </tr>\n",
              "    <tr>\n",
              "      <th>4</th>\n",
              "      <td>2000-01-07</td>\n",
              "      <td>2.67</td>\n",
              "      <td>2.67</td>\n",
              "      <td>2.61</td>\n",
              "      <td>2.61</td>\n",
              "      <td>1.50</td>\n",
              "      <td>394200.0</td>\n",
              "    </tr>\n",
              "  </tbody>\n",
              "</table>\n",
              "</div>"
            ],
            "text/plain": [
              "        Date  Open  High   Low  Close  Adj Close    Volume\n",
              "0 2000-01-03  2.80  2.85  2.73   2.73       1.58  514800.0\n",
              "1 2000-01-04  2.73  2.74  2.60   2.60       1.50  314100.0\n",
              "2 2000-01-05  2.60  2.63  2.51   2.63       1.52  478800.0\n",
              "3 2000-01-06  2.63  2.67  2.60   2.67       1.54  205200.0\n",
              "4 2000-01-07  2.67  2.67  2.61   2.61       1.50  394200.0"
            ]
          },
          "metadata": {
            "tags": []
          },
          "execution_count": 118
        }
      ]
    },
    {
      "cell_type": "code",
      "metadata": {
        "id": "Ofk7WjdDBna4",
        "colab_type": "code",
        "colab": {
          "base_uri": "https://localhost:8080/",
          "height": 496
        },
        "outputId": "f491609e-47cc-468d-8466-26c8f52e5331"
      },
      "source": [
        "plt.style.use('seaborn')\n",
        "df_raw = df[df.columns[-2]]\n",
        "df_raw.plot(label=stock_name, figsize=(16,8), title=df.columns[-2], legend=True)\n"
      ],
      "execution_count": 126,
      "outputs": [
        {
          "output_type": "execute_result",
          "data": {
            "text/plain": [
              "<matplotlib.axes._subplots.AxesSubplot at 0x7f0675166400>"
            ]
          },
          "metadata": {
            "tags": []
          },
          "execution_count": 126
        },
        {
          "output_type": "display_data",
          "data": {
            "image/png": "[encoded data removed]",
            "text/plain": [
              "<Figure size 1152x576 with 1 Axes>"
            ]
          },
          "metadata": {
            "tags": []
          }
        }
      ]
    },
    {
      "cell_type": "code",
      "metadata": {
        "id": "ZyTpxAiNDoTs",
        "colab_type": "code",
        "colab": {}
      },
      "source": [
        ""
      ],
      "execution_count": 0,
      "outputs": []
    },
    {
      "cell_type": "code",
      "metadata": {
        "id": "4g1v7gF4C4qN",
        "colab_type": "code",
        "colab": {}
      },
      "source": [
        ""
      ],
      "execution_count": 0,
      "outputs": []
    }
  ]
}